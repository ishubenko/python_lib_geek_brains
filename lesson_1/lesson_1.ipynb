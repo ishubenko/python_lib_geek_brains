{
 "cells": [
  {
   "cell_type": "code",
   "execution_count": 4,
   "metadata": {
    "scrolled": true
   },
   "outputs": [
    {
     "name": "stdout",
     "output_type": "stream",
     "text": [
      "Hello World\n",
      " 123.py\t\t  prog2.py    prog_h.txt        test2.py\t  Загрузки\n",
      " anaconda3\t  prog3.py    prog_w.txt        test_bash.sh\t  Изображения\n",
      " desctop2\t  prog4.py    pyCharm\t        test.txt\t  Музыка\n",
      " Downloads\t  prog5.py    PycharmProjects   test.txt.bak\t  Общедоступные\n",
      " GPUCache\t  prog5.txt   Release.key      'VirtualBox VMs'  'Рабочий стол'\n",
      " lesson_1.ipynb   prog6.py    SQL_GeekBrains    Видео\t\t  Шаблоны\n",
      " prog1.py\t  prog9.txt   test1.py\t        Документы\n",
      "CPU times: user 3.84 ms, sys: 4.47 ms, total: 8.31 ms\n",
      "Wall time: 114 ms\n"
     ]
    }
   ],
   "source": [
    "%%time\n",
    "print('Hello World')\n",
    "!ls"
   ]
  },
  {
   "cell_type": "code",
   "execution_count": null,
   "metadata": {},
   "outputs": [],
   "source": []
  }
 ],
 "metadata": {
  "kernelspec": {
   "display_name": "Python 3",
   "language": "python",
   "name": "python3"
  },
  "language_info": {
   "codemirror_mode": {
    "name": "ipython",
    "version": 3
   },
   "file_extension": ".py",
   "mimetype": "text/x-python",
   "name": "python",
   "nbconvert_exporter": "python",
   "pygments_lexer": "ipython3",
   "version": "3.8.3"
  }
 },
 "nbformat": 4,
 "nbformat_minor": 4
}
