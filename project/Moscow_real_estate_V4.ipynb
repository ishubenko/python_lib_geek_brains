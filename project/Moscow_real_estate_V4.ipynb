{
 "cells": [
  {
   "cell_type": "markdown",
   "metadata": {},
   "source": [
    "### ==========================Начало работы=========================="
   ]
  },
  {
   "cell_type": "code",
   "execution_count": 1,
   "metadata": {},
   "outputs": [],
   "source": [
    "# Импорт библиотек\n",
    "import pandas as pd\n",
    "import numpy as np"
   ]
  },
  {
   "cell_type": "code",
   "execution_count": 2,
   "metadata": {},
   "outputs": [],
   "source": [
    "# Magic commands\n",
    "%matplotlib inline \n",
    "# вывод графики в ноутбук\n",
    "%config InlineBackend.figure_format = 'svg' \n",
    "# более четкое отображение, формат фала фигуры svg"
   ]
  },
  {
   "cell_type": "markdown",
   "metadata": {},
   "source": [
    "### ==========================Импорт данных=========================="
   ]
  },
  {
   "cell_type": "code",
   "execution_count": 3,
   "metadata": {},
   "outputs": [],
   "source": [
    "df_train = pd.read_csv('import/train.csv') # загружаем тренировочный датасет в датафрейм df_train\n",
    "df_test = pd.read_csv('import/test.csv') # загружаем тестовый датасет в датафрейм df_test"
   ]
  },
  {
   "cell_type": "code",
   "execution_count": 21,
   "metadata": {
    "scrolled": false
   },
   "outputs": [],
   "source": [
    "X = df_train.drop(['Price','Id'], axis=1)"
   ]
  },
  {
   "cell_type": "code",
   "execution_count": 37,
   "metadata": {},
   "outputs": [],
   "source": [
    "def price_modify(df):\n",
    "    y = df[['Price','Square']]\n",
    "    y['Price'].loc[(y['Price'] > 400000) & (y['Square'] < 90)] = df_train['Price'].mean()\n",
    "    y = y.drop(['Square'], axis=1)\n",
    "    return y"
   ]
  },
  {
   "cell_type": "code",
   "execution_count": 38,
   "metadata": {
    "scrolled": true
   },
   "outputs": [
    {
     "name": "stderr",
     "output_type": "stream",
     "text": [
      "<ipython-input-37-5d98a14c6ff1>:3: SettingWithCopyWarning: \n",
      "A value is trying to be set on a copy of a slice from a DataFrame\n",
      "\n",
      "See the caveats in the documentation: https://pandas.pydata.org/pandas-docs/stable/user_guide/indexing.html#returning-a-view-versus-a-copy\n",
      "  y['Price'].loc[(y['Price'] > 400000) & (y['Square'] < 90)] = df_train['Price'].mean()\n"
     ]
    }
   ],
   "source": [
    "y = price_modify(df_train)"
   ]
  },
  {
   "cell_type": "code",
   "execution_count": 28,
   "metadata": {},
   "outputs": [],
   "source": [
    "#y['Price'].loc[(y['Price'] < 90000) & (y['Square'] > 60)]"
   ]
  },
  {
   "cell_type": "code",
   "execution_count": 29,
   "metadata": {},
   "outputs": [],
   "source": [
    "X = df_train.drop(['Price','Id'], axis=1)"
   ]
  },
  {
   "cell_type": "code",
   "execution_count": 30,
   "metadata": {},
   "outputs": [],
   "source": [
    "# Заменяем в наблюдениях по признаку Shops_2  буквы A и B на цифры 0 и 1\n",
    "Shops_2_map = {\n",
    "    \"B\": 1,\n",
    "    \"A\": 0,\n",
    "}\n",
    "\n",
    "X[\"Shops_2\"] = X[\"Shops_2\"].map(Shops_2_map) \n",
    "\n",
    "# Заменяем в наблюдениях по признаку Ecology_2  буквы A и B на цифры 0 и 1\n",
    "Ecology_2_map = {\n",
    "    \"B\": 1,\n",
    "    \"A\": 0,\n",
    "}\n",
    "\n",
    "X[\"Ecology_2\"] = X[\"Ecology_2\"].map(Ecology_2_map)\n",
    "\n",
    "# Заменяем в наблюдениях по признаку Ecology_3  буквы A и B на цифры 0 и 1\n",
    "Ecology_3_map = {\n",
    "    \"B\": 1,\n",
    "    \"A\": 0,\n",
    "}\n",
    "\n",
    "X[\"Ecology_3\"] = X[\"Ecology_3\"].map(Ecology_3_map)"
   ]
  },
  {
   "cell_type": "code",
   "execution_count": 32,
   "metadata": {},
   "outputs": [],
   "source": [
    "lifeSquare_mean = X['LifeSquare'].mean()\n",
    "healthcare_1_median = X['LifeSquare'].median()\n",
    "X[\"LifeSquare\"].fillna(lifeSquare_mean, inplace=True)\n",
    "X[\"Healthcare_1\"].fillna(healthcare_1_median, inplace=True)"
   ]
  },
  {
   "cell_type": "code",
   "execution_count": 40,
   "metadata": {},
   "outputs": [],
   "source": [
    "from sklearn.model_selection import train_test_split\n",
    "X_train, X_valid, y_train, y_valid = train_test_split(X, y, test_size=0.4, random_state=53)"
   ]
  },
  {
   "cell_type": "code",
   "execution_count": 41,
   "metadata": {},
   "outputs": [
    {
     "name": "stderr",
     "output_type": "stream",
     "text": [
      "/home/ishubenko/anaconda3/lib/python3.8/site-packages/sklearn/utils/validation.py:73: DataConversionWarning: A column-vector y was passed when a 1d array was expected. Please change the shape of y to (n_samples, ), for example using ravel().\n",
      "  return f(**kwargs)\n"
     ]
    }
   ],
   "source": [
    "from sklearn.ensemble import GradientBoostingRegressor\n",
    "gbt = GradientBoostingRegressor(random_state=53, n_estimators=322).fit(X_train, y_train)"
   ]
  },
  {
   "cell_type": "code",
   "execution_count": 42,
   "metadata": {},
   "outputs": [],
   "source": [
    "y_pred_train = gbt.predict(X_train)\n",
    "y_pred = gbt.predict(X_valid)"
   ]
  },
  {
   "cell_type": "code",
   "execution_count": 44,
   "metadata": {},
   "outputs": [],
   "source": [
    "from sklearn.metrics import r2_score"
   ]
  },
  {
   "cell_type": "code",
   "execution_count": 45,
   "metadata": {
    "scrolled": true
   },
   "outputs": [
    {
     "name": "stdout",
     "output_type": "stream",
     "text": [
      "R^2 на тренировочной выборке: 0.7829608567057934\n",
      "R^2 на тестовой выборке: 0.6729893686962367\n"
     ]
    }
   ],
   "source": [
    "print(\"R^2 на тренировочной выборке: {}\".format(r2_score(y_train, y_pred_train)))\n",
    "print(\"R^2 на тестовой выборке: {}\".format(r2_score(y_valid, y_pred)))"
   ]
  },
  {
   "cell_type": "code",
   "execution_count": 47,
   "metadata": {},
   "outputs": [],
   "source": [
    "X_test = df_test"
   ]
  },
  {
   "cell_type": "code",
   "execution_count": 48,
   "metadata": {},
   "outputs": [],
   "source": [
    "Shops_2_map = {\n",
    "    \"B\": 1,\n",
    "    \"A\": 0,\n",
    "}\n",
    "\n",
    "X_test[\"Shops_2\"] = X_test[\"Shops_2\"].map(Shops_2_map) \n",
    "\n",
    "# Заменяем в наблюдениях по признаку Ecology_2  буквы A и B на цифры 0 и 1\n",
    "Ecology_2_map = {\n",
    "    \"B\": 1,\n",
    "    \"A\": 0,\n",
    "}\n",
    "\n",
    "X_test[\"Ecology_2\"] = X_test[\"Ecology_2\"].map(Ecology_2_map)\n",
    "\n",
    "# Заменяем в наблюдениях по признаку Ecology_3  буквы A и B на цифры 0 и 1\n",
    "Ecology_3_map = {\n",
    "    \"B\": 1,\n",
    "    \"A\": 0,\n",
    "}\n",
    "\n",
    "X_test[\"Ecology_3\"] = X_test[\"Ecology_3\"].map(Ecology_3_map)"
   ]
  },
  {
   "cell_type": "code",
   "execution_count": 51,
   "metadata": {},
   "outputs": [],
   "source": [
    "test_lifeSquare_mean = X_test['LifeSquare'].mean()\n",
    "test_healthcare_1_median = X_test['LifeSquare'].median()\n",
    "X_test[\"LifeSquare\"].fillna(test_lifeSquare_mean, inplace=True)\n",
    "X_test[\"Healthcare_1\"].fillna(test_healthcare_1_median, inplace=True)\n",
    "X_test = X_test.drop('Id', axis=1)"
   ]
  },
  {
   "cell_type": "code",
   "execution_count": 52,
   "metadata": {},
   "outputs": [],
   "source": [
    "y_pred = gbt.predict(X_test)"
   ]
  },
  {
   "cell_type": "code",
   "execution_count": 53,
   "metadata": {
    "scrolled": true
   },
   "outputs": [
    {
     "data": {
      "text/html": [
       "<div>\n",
       "<style scoped>\n",
       "    .dataframe tbody tr th:only-of-type {\n",
       "        vertical-align: middle;\n",
       "    }\n",
       "\n",
       "    .dataframe tbody tr th {\n",
       "        vertical-align: top;\n",
       "    }\n",
       "\n",
       "    .dataframe thead th {\n",
       "        text-align: right;\n",
       "    }\n",
       "</style>\n",
       "<table border=\"1\" class=\"dataframe\">\n",
       "  <thead>\n",
       "    <tr style=\"text-align: right;\">\n",
       "      <th></th>\n",
       "      <th>Price</th>\n",
       "    </tr>\n",
       "    <tr>\n",
       "      <th>Id</th>\n",
       "      <th></th>\n",
       "    </tr>\n",
       "  </thead>\n",
       "  <tbody>\n",
       "    <tr>\n",
       "      <th>725</th>\n",
       "      <td>165950.762556</td>\n",
       "    </tr>\n",
       "    <tr>\n",
       "      <th>15856</th>\n",
       "      <td>209028.920276</td>\n",
       "    </tr>\n",
       "    <tr>\n",
       "      <th>5480</th>\n",
       "      <td>230723.014406</td>\n",
       "    </tr>\n",
       "    <tr>\n",
       "      <th>15664</th>\n",
       "      <td>293224.496582</td>\n",
       "    </tr>\n",
       "    <tr>\n",
       "      <th>14275</th>\n",
       "      <td>141649.037116</td>\n",
       "    </tr>\n",
       "    <tr>\n",
       "      <th>...</th>\n",
       "      <td>...</td>\n",
       "    </tr>\n",
       "    <tr>\n",
       "      <th>8180</th>\n",
       "      <td>239723.483358</td>\n",
       "    </tr>\n",
       "    <tr>\n",
       "      <th>4695</th>\n",
       "      <td>137121.765246</td>\n",
       "    </tr>\n",
       "    <tr>\n",
       "      <th>5783</th>\n",
       "      <td>311495.049573</td>\n",
       "    </tr>\n",
       "    <tr>\n",
       "      <th>4780</th>\n",
       "      <td>200204.474757</td>\n",
       "    </tr>\n",
       "    <tr>\n",
       "      <th>12504</th>\n",
       "      <td>182192.961200</td>\n",
       "    </tr>\n",
       "  </tbody>\n",
       "</table>\n",
       "<p>5000 rows × 1 columns</p>\n",
       "</div>"
      ],
      "text/plain": [
       "               Price\n",
       "Id                  \n",
       "725    165950.762556\n",
       "15856  209028.920276\n",
       "5480   230723.014406\n",
       "15664  293224.496582\n",
       "14275  141649.037116\n",
       "...              ...\n",
       "8180   239723.483358\n",
       "4695   137121.765246\n",
       "5783   311495.049573\n",
       "4780   200204.474757\n",
       "12504  182192.961200\n",
       "\n",
       "[5000 rows x 1 columns]"
      ]
     },
     "execution_count": 53,
     "metadata": {},
     "output_type": "execute_result"
    }
   ],
   "source": [
    "predictions = pd.DataFrame(index = df_test['Id'])\n",
    "predictions['Price'] = y_pred\n",
    "predictions"
   ]
  },
  {
   "cell_type": "code",
   "execution_count": 54,
   "metadata": {},
   "outputs": [],
   "source": [
    "predictions.to_csv('try_test_8.csv', sep=',')"
   ]
  }
 ],
 "metadata": {
  "kernelspec": {
   "display_name": "Python 3",
   "language": "python",
   "name": "python3"
  },
  "language_info": {
   "codemirror_mode": {
    "name": "ipython",
    "version": 3
   },
   "file_extension": ".py",
   "mimetype": "text/x-python",
   "name": "python",
   "nbconvert_exporter": "python",
   "pygments_lexer": "ipython3",
   "version": "3.8.3"
  }
 },
 "nbformat": 4,
 "nbformat_minor": 4
}
